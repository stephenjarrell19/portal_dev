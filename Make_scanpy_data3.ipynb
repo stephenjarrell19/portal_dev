{
 "cells": [
  {
   "cell_type": "markdown",
   "metadata": {},
   "source": [
    "# Prepare data for CellXGene\n",
    "\n",
    "Store datasets in a sparse dataframe, add to AnnData object\n",
    "\n",
    "To launch:\n",
    "\n",
    "source activate scanpy\n",
    "\n",
    "cellxgene launch ./biccn_mop6.h5ad -var gene -v -p 7006 --open"
   ]
  },
  {
   "cell_type": "code",
   "execution_count": 1,
   "metadata": {},
   "outputs": [],
   "source": [
    "import numpy as np\n",
    "import pandas as pd\n",
    "import scanpy as sc\n",
    "import anndata as ad\n",
    "import scipy.sparse as sparse\n",
    "import scipy.stats as stats\n",
    "from importlib import reload\n",
    "\n",
    "import matplotlib.pyplot as plt\n",
    "import re\n",
    "import time\n",
    "import os\n",
    "\n",
    "from multiprocessing import Pool"
   ]
  },
  {
   "cell_type": "code",
   "execution_count": 2,
   "metadata": {},
   "outputs": [],
   "source": [
    "# Load per-cell gene data\n",
    "datadir = '/cndd/emukamel/BICCN-Mouse-MOp/data_freeze_formatted'\n",
    "modalities = [\n",
    "#     '10x_cells_v2',\n",
    "#     '10x_cells_v3',\n",
    "#     '10x_nuclei_v3_macosko',\n",
    "#     '10x_nuclei_v3',\n",
    "    'smarter_cells',\n",
    "    'smarter_nuclei',\n",
    "    'snatac_gene',\n",
    "    'snmcseq_gene',\n",
    "]\n",
    "modalities_alt = [\n",
    "#     '10X_cells_v2_AIBS', '10X_cells_v3_AIBS', \n",
    "#     '10X_nuclei_v3_Broad','10X_nuclei_v3_AIBS',\n",
    "    'SmartSeq_cells_AIBS', \n",
    "    'SmartSeq_nuclei_AIBS',\n",
    "    'Open chromatin',\n",
    "    'DNA methylation', \n",
    "]"
   ]
  },
  {
   "cell_type": "code",
   "execution_count": 3,
   "metadata": {},
   "outputs": [
    {
     "name": "stdout",
     "output_type": "stream",
     "text": [
      "10X_cells_v2_AIBS\n",
      "['10x_cells_v2_AAACCTGAGGAGTCTG-1', '10x_cells_v2_ACCTTTAGTACAGCAG-1', '10x_cells_v2_ACGATACCACCCAGTG-1', '10x_cells_v2_ACGGGTCAGTGGGCTA-1', '10x_cells_v2_AGCAGCCCAGTTCATG-1']\n",
      "10X_cells_v3_AIBS\n",
      "['10x_cells_v3_AAACCCAAGCTTCATG-1', '10x_cells_v3_AAACCCACACCAGCCA-1', '10x_cells_v3_AAACGAACAACGATTC-1', '10x_cells_v3_AAACGAATCTCGTGAA-1', '10x_cells_v3_AAACGCTGTAGTCACT-1']\n",
      "10X_nuclei_v3_AIBS\n",
      "['10x_nuclei_v3_AAACCCAAGCTCTTCC-1', '10x_nuclei_v3_AAAGGGCTCGCGATCG-1', '10x_nuclei_v3_AAAGTGACATCGCTGG-1', '10x_nuclei_v3_AACAACCGTGCTCTCT-1', '10x_nuclei_v3_AACAAGAAGCCTGCCA-1']\n"
     ]
    },
    {
     "data": {
      "text/html": [
       "<div>\n",
       "<style scoped>\n",
       "    .dataframe tbody tr th:only-of-type {\n",
       "        vertical-align: middle;\n",
       "    }\n",
       "\n",
       "    .dataframe tbody tr th {\n",
       "        vertical-align: top;\n",
       "    }\n",
       "\n",
       "    .dataframe thead th {\n",
       "        text-align: right;\n",
       "    }\n",
       "</style>\n",
       "<table border=\"1\" class=\"dataframe\">\n",
       "  <thead>\n",
       "    <tr style=\"text-align: right;\">\n",
       "      <th></th>\n",
       "      <th>cell_id</th>\n",
       "      <th>SCF_round2</th>\n",
       "      <th>SCF_round3</th>\n",
       "      <th>RNA concensus</th>\n",
       "      <th>LIGER_level1</th>\n",
       "      <th>LIGER_level2</th>\n",
       "      <th>modality</th>\n",
       "    </tr>\n",
       "  </thead>\n",
       "  <tbody>\n",
       "    <tr>\n",
       "      <th>0</th>\n",
       "      <td>snmcseq_gene_2C_M_0</td>\n",
       "      <td>1-1</td>\n",
       "      <td>1-1-1</td>\n",
       "      <td>NaN</td>\n",
       "      <td>0</td>\n",
       "      <td>it_8</td>\n",
       "      <td>DNA methylation</td>\n",
       "    </tr>\n",
       "    <tr>\n",
       "      <th>1</th>\n",
       "      <td>snmcseq_gene_2C_M_1</td>\n",
       "      <td>4-2</td>\n",
       "      <td>4-2-1</td>\n",
       "      <td>NaN</td>\n",
       "      <td>1</td>\n",
       "      <td>it_0</td>\n",
       "      <td>DNA methylation</td>\n",
       "    </tr>\n",
       "    <tr>\n",
       "      <th>2</th>\n",
       "      <td>snmcseq_gene_2C_M_100</td>\n",
       "      <td>4-1</td>\n",
       "      <td>4-1-1</td>\n",
       "      <td>NaN</td>\n",
       "      <td>1</td>\n",
       "      <td>it_0</td>\n",
       "      <td>DNA methylation</td>\n",
       "    </tr>\n",
       "    <tr>\n",
       "      <th>3</th>\n",
       "      <td>snmcseq_gene_2C_M_1000</td>\n",
       "      <td>4-2</td>\n",
       "      <td>4-2-1</td>\n",
       "      <td>NaN</td>\n",
       "      <td>1</td>\n",
       "      <td>it_0</td>\n",
       "      <td>DNA methylation</td>\n",
       "    </tr>\n",
       "    <tr>\n",
       "      <th>4</th>\n",
       "      <td>snmcseq_gene_2C_M_1001</td>\n",
       "      <td>4-1</td>\n",
       "      <td>4-1-1</td>\n",
       "      <td>NaN</td>\n",
       "      <td>1</td>\n",
       "      <td>it_0</td>\n",
       "      <td>DNA methylation</td>\n",
       "    </tr>\n",
       "  </tbody>\n",
       "</table>\n",
       "</div>"
      ],
      "text/plain": [
       "                  cell_id SCF_round2 SCF_round3 RNA concensus LIGER_level1  \\\n",
       "0     snmcseq_gene_2C_M_0        1-1      1-1-1           NaN            0   \n",
       "1     snmcseq_gene_2C_M_1        4-2      4-2-1           NaN            1   \n",
       "2   snmcseq_gene_2C_M_100        4-1      4-1-1           NaN            1   \n",
       "3  snmcseq_gene_2C_M_1000        4-2      4-2-1           NaN            1   \n",
       "4  snmcseq_gene_2C_M_1001        4-1      4-1-1           NaN            1   \n",
       "\n",
       "  LIGER_level2         modality  \n",
       "0         it_8  DNA methylation  \n",
       "1         it_0  DNA methylation  \n",
       "2         it_0  DNA methylation  \n",
       "3         it_0  DNA methylation  \n",
       "4         it_0  DNA methylation  "
      ]
     },
     "execution_count": 3,
     "metadata": {},
     "output_type": "execute_result"
    }
   ],
   "source": [
    "# Gather all gene lists\n",
    "# Load gene names and merge\n",
    "gencode = pd.read_csv('genes.gencode.vM16.bed',sep='\\t',header=None,\n",
    "                     names=['chrom','start','end','ensid','gene'])\n",
    "patt = re.compile(r'\\..+')\n",
    "gencode.ensid = [patt.sub('',g) for g in gencode.ensid]\n",
    "gencode = gencode.set_index('ensid',drop=False)\n",
    "\n",
    "genes = pd.read_csv(datadir+'/'+modalities[0]+'_raw.gene',header=None)\n",
    "genes.columns = ['ensID']\n",
    "genes = genes.set_index('ensID',drop=False)\n",
    "ngenes = genes.shape[0]\n",
    "\n",
    "# Load cells\n",
    "cells = pd.read_csv('/cndd/emukamel/BICCN-Mouse-MOp/MOp_metadata/Table_S2_CellClusterAssignments_AllMethods.tsv',\n",
    "                   sep='\\t',\n",
    "                    dtype='str')\n",
    "for mod in ['10X_cells_v2_AIBS', '10X_cells_v3_AIBS','10X_nuclei_v3_AIBS']:\n",
    "    print(mod)\n",
    "    curr_rows = cells.modality==mod\n",
    "    cu=cells.loc[curr_rows,'cell_id']\n",
    "    cu = [c[:-18] for c in cu]\n",
    "    print(cu[:5])\n",
    "    cells.loc[curr_rows,'cell_id'] = cu\n",
    "cells.head()"
   ]
  },
  {
   "cell_type": "code",
   "execution_count": 6,
   "metadata": {},
   "outputs": [
    {
     "data": {
      "text/html": [
       "<div>\n",
       "<style scoped>\n",
       "    .dataframe tbody tr th:only-of-type {\n",
       "        vertical-align: middle;\n",
       "    }\n",
       "\n",
       "    .dataframe tbody tr th {\n",
       "        vertical-align: top;\n",
       "    }\n",
       "\n",
       "    .dataframe thead th {\n",
       "        text-align: right;\n",
       "    }\n",
       "</style>\n",
       "<table border=\"1\" class=\"dataframe\">\n",
       "  <thead>\n",
       "    <tr style=\"text-align: right;\">\n",
       "      <th></th>\n",
       "      <th>cell_id</th>\n",
       "      <th>SCF_round2</th>\n",
       "      <th>SCF_round3</th>\n",
       "      <th>RNA concensus</th>\n",
       "      <th>LIGER_level1</th>\n",
       "      <th>LIGER_level2</th>\n",
       "      <th>modality</th>\n",
       "    </tr>\n",
       "  </thead>\n",
       "  <tbody>\n",
       "    <tr>\n",
       "      <th>0</th>\n",
       "      <td>snmcseq_gene_2C_M_0</td>\n",
       "      <td>1-1</td>\n",
       "      <td>1-1-1</td>\n",
       "      <td>NaN</td>\n",
       "      <td>0</td>\n",
       "      <td>it_8</td>\n",
       "      <td>DNA methylation</td>\n",
       "    </tr>\n",
       "    <tr>\n",
       "      <th>1</th>\n",
       "      <td>snmcseq_gene_2C_M_1</td>\n",
       "      <td>4-2</td>\n",
       "      <td>4-2-1</td>\n",
       "      <td>NaN</td>\n",
       "      <td>1</td>\n",
       "      <td>it_0</td>\n",
       "      <td>DNA methylation</td>\n",
       "    </tr>\n",
       "    <tr>\n",
       "      <th>2</th>\n",
       "      <td>snmcseq_gene_2C_M_100</td>\n",
       "      <td>4-1</td>\n",
       "      <td>4-1-1</td>\n",
       "      <td>NaN</td>\n",
       "      <td>1</td>\n",
       "      <td>it_0</td>\n",
       "      <td>DNA methylation</td>\n",
       "    </tr>\n",
       "    <tr>\n",
       "      <th>3</th>\n",
       "      <td>snmcseq_gene_2C_M_1000</td>\n",
       "      <td>4-2</td>\n",
       "      <td>4-2-1</td>\n",
       "      <td>NaN</td>\n",
       "      <td>1</td>\n",
       "      <td>it_0</td>\n",
       "      <td>DNA methylation</td>\n",
       "    </tr>\n",
       "    <tr>\n",
       "      <th>4</th>\n",
       "      <td>snmcseq_gene_2C_M_1001</td>\n",
       "      <td>4-1</td>\n",
       "      <td>4-1-1</td>\n",
       "      <td>NaN</td>\n",
       "      <td>1</td>\n",
       "      <td>it_0</td>\n",
       "      <td>DNA methylation</td>\n",
       "    </tr>\n",
       "    <tr>\n",
       "      <th>...</th>\n",
       "      <td>...</td>\n",
       "      <td>...</td>\n",
       "      <td>...</td>\n",
       "      <td>...</td>\n",
       "      <td>...</td>\n",
       "      <td>...</td>\n",
       "      <td>...</td>\n",
       "    </tr>\n",
       "    <tr>\n",
       "      <th>571698</th>\n",
       "      <td>snatac_gene_CEMBA180618_5D_TCCGGAGAAACCAGGTGTA...</td>\n",
       "      <td>NaN</td>\n",
       "      <td>NaN</td>\n",
       "      <td>NaN</td>\n",
       "      <td>glia</td>\n",
       "      <td>non_neuron_10</td>\n",
       "      <td>Open chromatin</td>\n",
       "    </tr>\n",
       "    <tr>\n",
       "      <th>571699</th>\n",
       "      <td>snatac_gene_CEMBA180618_5D_TCCGGAGAACGTTCGAGGT...</td>\n",
       "      <td>NaN</td>\n",
       "      <td>NaN</td>\n",
       "      <td>NaN</td>\n",
       "      <td>glia</td>\n",
       "      <td>non_neuron_10</td>\n",
       "      <td>Open chromatin</td>\n",
       "    </tr>\n",
       "    <tr>\n",
       "      <th>571700</th>\n",
       "      <td>snatac_gene_CEMBA180618_5D_TCCGGAGAACGTTCGAGTA...</td>\n",
       "      <td>NaN</td>\n",
       "      <td>NaN</td>\n",
       "      <td>NaN</td>\n",
       "      <td>glia</td>\n",
       "      <td>non_neuron_10</td>\n",
       "      <td>Open chromatin</td>\n",
       "    </tr>\n",
       "    <tr>\n",
       "      <th>571701</th>\n",
       "      <td>snatac_gene_CEMBA180618_5D_TCCGGAGACGAGGCTGAGG...</td>\n",
       "      <td>NaN</td>\n",
       "      <td>NaN</td>\n",
       "      <td>NaN</td>\n",
       "      <td>glia</td>\n",
       "      <td>non_neuron_10</td>\n",
       "      <td>Open chromatin</td>\n",
       "    </tr>\n",
       "    <tr>\n",
       "      <th>571702</th>\n",
       "      <td>snatac_gene_CEMBA180618_5D_TCCGGAGAGTAGAGGATAT...</td>\n",
       "      <td>NaN</td>\n",
       "      <td>NaN</td>\n",
       "      <td>NaN</td>\n",
       "      <td>glia</td>\n",
       "      <td>non_neuron_10</td>\n",
       "      <td>Open chromatin</td>\n",
       "    </tr>\n",
       "  </tbody>\n",
       "</table>\n",
       "<p>571703 rows × 7 columns</p>\n",
       "</div>"
      ],
      "text/plain": [
       "                                                  cell_id SCF_round2  \\\n",
       "0                                     snmcseq_gene_2C_M_0        1-1   \n",
       "1                                     snmcseq_gene_2C_M_1        4-2   \n",
       "2                                   snmcseq_gene_2C_M_100        4-1   \n",
       "3                                  snmcseq_gene_2C_M_1000        4-2   \n",
       "4                                  snmcseq_gene_2C_M_1001        4-1   \n",
       "...                                                   ...        ...   \n",
       "571698  snatac_gene_CEMBA180618_5D_TCCGGAGAAACCAGGTGTA...        NaN   \n",
       "571699  snatac_gene_CEMBA180618_5D_TCCGGAGAACGTTCGAGGT...        NaN   \n",
       "571700  snatac_gene_CEMBA180618_5D_TCCGGAGAACGTTCGAGTA...        NaN   \n",
       "571701  snatac_gene_CEMBA180618_5D_TCCGGAGACGAGGCTGAGG...        NaN   \n",
       "571702  snatac_gene_CEMBA180618_5D_TCCGGAGAGTAGAGGATAT...        NaN   \n",
       "\n",
       "       SCF_round3 RNA concensus LIGER_level1   LIGER_level2         modality  \n",
       "0           1-1-1           NaN            0           it_8  DNA methylation  \n",
       "1           4-2-1           NaN            1           it_0  DNA methylation  \n",
       "2           4-1-1           NaN            1           it_0  DNA methylation  \n",
       "3           4-2-1           NaN            1           it_0  DNA methylation  \n",
       "4           4-1-1           NaN            1           it_0  DNA methylation  \n",
       "...           ...           ...          ...            ...              ...  \n",
       "571698        NaN           NaN         glia  non_neuron_10   Open chromatin  \n",
       "571699        NaN           NaN         glia  non_neuron_10   Open chromatin  \n",
       "571700        NaN           NaN         glia  non_neuron_10   Open chromatin  \n",
       "571701        NaN           NaN         glia  non_neuron_10   Open chromatin  \n",
       "571702        NaN           NaN         glia  non_neuron_10   Open chromatin  \n",
       "\n",
       "[571703 rows x 7 columns]"
      ]
     },
     "execution_count": 6,
     "metadata": {},
     "output_type": "execute_result"
    }
   ],
   "source": [
    "cells"
   ]
  },
  {
   "cell_type": "code",
   "execution_count": 25,
   "metadata": {},
   "outputs": [],
   "source": [
    "# Prepare the DNA methylation data\n",
    "\n",
    "# if not os.path.exists(datadir+'/snmcseq_gene_raw.npz'):\n",
    "    # Prepare the snmcseq data\n",
    "    ch = sparse.load_npz(datadir+'/snmcseq_gene_CH_raw.npz')\n",
    "    mch = sparse.load_npz(datadir+'/snmcseq_gene_mCH_raw.npz')\n",
    "\n",
    "    ch_df = pd.DataFrame.sparse.from_spmatrix(ch).astype(pd.SparseDtype(\"float\", 0))\n",
    "    mch_df = pd.DataFrame.sparse.from_spmatrix(mch).astype(pd.SparseDtype(\"float\", 0))\n",
    "\n",
    "    mlevel = mch_df/ch_df\n",
    "    sparse.save_npz(datadir+'/snmcseq_gene_raw.npz', mlevel)\n",
    "\n",
    "    mlevel_z = stats.zscore(mlevel,axis=1,nan_policy='omit')\n",
    "    np.save(datadir+'/snmcseq_gene_raw.zscore.npy', mlevel_z)"
   ]
  },
  {
   "cell_type": "code",
   "execution_count": 13,
   "metadata": {},
   "outputs": [],
   "source": [
    "def vars(a, axis=None):\n",
    "    \"\"\" Variance of sparse matrix a\n",
    "    var = mean(a**2) - mean(a)**2\n",
    "    \"\"\"\n",
    "    a_squared = a.copy()\n",
    "    a_squared.data **= 2\n",
    "    return a_squared.mean(axis) - np.square(a.mean(axis))"
   ]
  },
  {
   "cell_type": "code",
   "execution_count": 14,
   "metadata": {},
   "outputs": [
    {
     "data": {
      "text/plain": [
       "(6465, 1)"
      ]
     },
     "execution_count": 14,
     "metadata": {},
     "output_type": "execute_result"
    }
   ],
   "source": [
    "# For each dataset, determine Highly variable genes (HVGs)\n",
    "mod = 'smarter_cells'\n",
    "data1 = sparse.load_npz(datadir+'/'+mod+'_raw.npz')\n",
    "\n",
    "# Load genes\n",
    "genes1 = pd.read_csv(datadir+'/'+mod+'_raw.gene',header=None)\n",
    "\n",
    "data1=data1.tocsr()\n",
    "dv = vars(data1,axis=1)\n",
    "\n",
    "hvg = dv>np.percentile(dv,80) # Keep the top 20% of most variable genes\n",
    "hvg_ensid = genes1[hvg]\n",
    "hvg_ensid.shape"
   ]
  },
  {
   "cell_type": "code",
   "execution_count": 28,
   "metadata": {},
   "outputs": [],
   "source": [
    "def load_df(mod, ensid=None):\n",
    "    tstart = time.time()\n",
    "    print('Loading %s' % mod)\n",
    "    \n",
    "    # Load genes\n",
    "    genes1 = pd.read_csv(datadir+'/'+mod+'_raw.gene',header=None)\n",
    "\n",
    "    # Load data\n",
    "    if 'snmcseq' in mod:\n",
    "        data1 = np.load(datadir+'/'+mod+'_raw.zscore.npy').T\n",
    "#         data1 = sparse.csr_matrix(data1)\n",
    "#         data1df = pd.SparseDataFrame(data=data1, columns=genes1[0])\n",
    "        data1df = pd.DataFrame(data1, columns=genes1[0])\n",
    "        data1df = data1df.astype(pd.SparseDtype(\"float\",fill_value=np.nan))\n",
    "    else:\n",
    "        data1 = sparse.load_npz(datadir+'/'+mod+'_raw.npz').T\n",
    "        data1 = stats.zscore(data1,nan_policy='omit',axis=0)\n",
    "        data1df = pd.DataFrame.sparse.from_spmatrix(data1, columns = genes1[0])\n",
    "    \n",
    "    if ensid is not None:\n",
    "#         data1df = data1df.filter(axis=1,items=ensid.to_numpy().ravel())\n",
    "        data1df = data1df.loc[:,ensid.to_numpy().ravel()]\n",
    "\n",
    "\n",
    "    # Load cells\n",
    "    cells1 = pd.read_csv(datadir+'/'+mod+'_raw.cell',header=None)\n",
    "    cells1 = cells1[0]\n",
    "    cells1 = [mod+'_'+c for c in cells1]\n",
    "    data1df['cells'] = cells1\n",
    "    data1df.set_index('cells', inplace=True, drop=True)\n",
    "    print('Modality %s: t=%3.3f s; %d cells x %d genes' % (mod, time.time()-tstart,\n",
    "                                                          data1df.shape[0], data1df.shape[1]))\n",
    "    \n",
    "    return data1df\n",
    "\n",
    "def load_metadata(mod):\n",
    "    tstart = time.time()\n",
    "    print('Loading metadata for %s' % mod)\n",
    "    \n",
    "    # Load data\n",
    "    data1 = pd.read_csv(datadir+'/'+mod+'_metadata.tsv',sep='\\t',\n",
    "                       columns=['cell','tsne_0','tsne_1'])\n",
    "    \n",
    "    return data1"
   ]
  },
  {
   "cell_type": "code",
   "execution_count": null,
   "metadata": {},
   "outputs": [
    {
     "name": "stdout",
     "output_type": "stream",
     "text": [
      "Loading snmcseq_gene\n"
     ]
    },
    {
     "name": "stderr",
     "output_type": "stream",
     "text": [
      "/cndd/emukamel/conda_envs/scanpy/lib/python3.7/site-packages/pandas/core/indexing.py:1418: FutureWarning: \n",
      "Passing list-likes to .loc or [] with any missing label will raise\n",
      "KeyError in the future, you can use .reindex() as an alternative.\n",
      "\n",
      "See the documentation here:\n",
      "https://pandas.pydata.org/pandas-docs/stable/user_guide/indexing.html#deprecate-loc-reindex-listlike\n",
      "  return self._getitem_tuple(key)\n"
     ]
    }
   ],
   "source": [
    "# For each modality, load the data, subset the genes, and normalize\n",
    "mod = modalities[3]\n",
    "mod\n",
    "tstart = time.time()\n",
    "df = load_df(mod, ensid=hvg_ensid)\n",
    "print(time.time() - tstart)"
   ]
  },
  {
   "cell_type": "code",
   "execution_count": 54,
   "metadata": {},
   "outputs": [
    {
     "ename": "IndexError",
     "evalue": "tuple index out of range",
     "output_type": "error",
     "traceback": [
      "\u001b[0;31m---------------------------------------------------------------------------\u001b[0m",
      "\u001b[0;31mIndexError\u001b[0m                                Traceback (most recent call last)",
      "\u001b[0;32m<ipython-input-54-fcfdd7d3a425>\u001b[0m in \u001b[0;36m<module>\u001b[0;34m\u001b[0m\n\u001b[1;32m      4\u001b[0m \u001b[0;34m\u001b[0m\u001b[0m\n\u001b[1;32m      5\u001b[0m \u001b[0mdata1\u001b[0m \u001b[0;34m=\u001b[0m \u001b[0msparse\u001b[0m\u001b[0;34m.\u001b[0m\u001b[0mload_npz\u001b[0m\u001b[0;34m(\u001b[0m\u001b[0mdatadir\u001b[0m\u001b[0;34m+\u001b[0m\u001b[0;34m'/'\u001b[0m\u001b[0;34m+\u001b[0m\u001b[0mmod\u001b[0m\u001b[0;34m+\u001b[0m\u001b[0;34m'_raw.npz'\u001b[0m\u001b[0;34m)\u001b[0m\u001b[0;34m.\u001b[0m\u001b[0mT\u001b[0m\u001b[0;34m\u001b[0m\u001b[0;34m\u001b[0m\u001b[0m\n\u001b[0;32m----> 6\u001b[0;31m \u001b[0mdata1\u001b[0m \u001b[0;34m=\u001b[0m \u001b[0mstats\u001b[0m\u001b[0;34m.\u001b[0m\u001b[0mzscore\u001b[0m\u001b[0;34m(\u001b[0m\u001b[0mdata1\u001b[0m\u001b[0;34m,\u001b[0m\u001b[0mnan_policy\u001b[0m\u001b[0;34m=\u001b[0m\u001b[0;34m'omit'\u001b[0m\u001b[0;34m,\u001b[0m\u001b[0maxis\u001b[0m\u001b[0;34m=\u001b[0m\u001b[0;36m0\u001b[0m\u001b[0;34m)\u001b[0m\u001b[0;34m\u001b[0m\u001b[0;34m\u001b[0m\u001b[0m\n\u001b[0m\u001b[1;32m      7\u001b[0m \u001b[0;34m\u001b[0m\u001b[0m\n\u001b[1;32m      8\u001b[0m \u001b[0;31m# tstart = time.time()\u001b[0m\u001b[0;34m\u001b[0m\u001b[0;34m\u001b[0m\u001b[0;34m\u001b[0m\u001b[0m\n",
      "\u001b[0;32m/cndd/emukamel/conda_envs/cembadata_eran/lib/python3.6/site-packages/scipy/stats/stats.py\u001b[0m in \u001b[0;36mzscore\u001b[0;34m(a, axis, ddof, nan_policy)\u001b[0m\n\u001b[1;32m   2414\u001b[0m         \u001b[0msstd\u001b[0m \u001b[0;34m=\u001b[0m \u001b[0mnp\u001b[0m\u001b[0;34m.\u001b[0m\u001b[0mnanstd\u001b[0m\u001b[0;34m(\u001b[0m\u001b[0ma\u001b[0m\u001b[0;34m=\u001b[0m\u001b[0ma\u001b[0m\u001b[0;34m,\u001b[0m \u001b[0maxis\u001b[0m\u001b[0;34m=\u001b[0m\u001b[0maxis\u001b[0m\u001b[0;34m,\u001b[0m \u001b[0mddof\u001b[0m\u001b[0;34m=\u001b[0m\u001b[0mddof\u001b[0m\u001b[0;34m,\u001b[0m \u001b[0mkeepdims\u001b[0m\u001b[0;34m=\u001b[0m\u001b[0;32mTrue\u001b[0m\u001b[0;34m)\u001b[0m\u001b[0;34m\u001b[0m\u001b[0;34m\u001b[0m\u001b[0m\n\u001b[1;32m   2415\u001b[0m     \u001b[0;32melse\u001b[0m\u001b[0;34m:\u001b[0m\u001b[0;34m\u001b[0m\u001b[0;34m\u001b[0m\u001b[0m\n\u001b[0;32m-> 2416\u001b[0;31m         \u001b[0mmns\u001b[0m \u001b[0;34m=\u001b[0m \u001b[0ma\u001b[0m\u001b[0;34m.\u001b[0m\u001b[0mmean\u001b[0m\u001b[0;34m(\u001b[0m\u001b[0maxis\u001b[0m\u001b[0;34m=\u001b[0m\u001b[0maxis\u001b[0m\u001b[0;34m,\u001b[0m \u001b[0mkeepdims\u001b[0m\u001b[0;34m=\u001b[0m\u001b[0;32mTrue\u001b[0m\u001b[0;34m)\u001b[0m\u001b[0;34m\u001b[0m\u001b[0;34m\u001b[0m\u001b[0m\n\u001b[0m\u001b[1;32m   2417\u001b[0m         \u001b[0msstd\u001b[0m \u001b[0;34m=\u001b[0m \u001b[0ma\u001b[0m\u001b[0;34m.\u001b[0m\u001b[0mstd\u001b[0m\u001b[0;34m(\u001b[0m\u001b[0maxis\u001b[0m\u001b[0;34m=\u001b[0m\u001b[0maxis\u001b[0m\u001b[0;34m,\u001b[0m \u001b[0mddof\u001b[0m\u001b[0;34m=\u001b[0m\u001b[0mddof\u001b[0m\u001b[0;34m,\u001b[0m \u001b[0mkeepdims\u001b[0m\u001b[0;34m=\u001b[0m\u001b[0;32mTrue\u001b[0m\u001b[0;34m)\u001b[0m\u001b[0;34m\u001b[0m\u001b[0;34m\u001b[0m\u001b[0m\n\u001b[1;32m   2418\u001b[0m \u001b[0;34m\u001b[0m\u001b[0m\n",
      "\u001b[0;32m/cndd/emukamel/conda_envs/cembadata_eran/lib/python3.6/site-packages/numpy/core/_methods.py\u001b[0m in \u001b[0;36m_mean\u001b[0;34m(a, axis, dtype, out, keepdims)\u001b[0m\n\u001b[1;32m    136\u001b[0m \u001b[0;34m\u001b[0m\u001b[0m\n\u001b[1;32m    137\u001b[0m     \u001b[0mis_float16_result\u001b[0m \u001b[0;34m=\u001b[0m \u001b[0;32mFalse\u001b[0m\u001b[0;34m\u001b[0m\u001b[0;34m\u001b[0m\u001b[0m\n\u001b[0;32m--> 138\u001b[0;31m     \u001b[0mrcount\u001b[0m \u001b[0;34m=\u001b[0m \u001b[0m_count_reduce_items\u001b[0m\u001b[0;34m(\u001b[0m\u001b[0marr\u001b[0m\u001b[0;34m,\u001b[0m \u001b[0maxis\u001b[0m\u001b[0;34m)\u001b[0m\u001b[0;34m\u001b[0m\u001b[0;34m\u001b[0m\u001b[0m\n\u001b[0m\u001b[1;32m    139\u001b[0m     \u001b[0;31m# Make this warning show up first\u001b[0m\u001b[0;34m\u001b[0m\u001b[0;34m\u001b[0m\u001b[0;34m\u001b[0m\u001b[0m\n\u001b[1;32m    140\u001b[0m     \u001b[0;32mif\u001b[0m \u001b[0mrcount\u001b[0m \u001b[0;34m==\u001b[0m \u001b[0;36m0\u001b[0m\u001b[0;34m:\u001b[0m\u001b[0;34m\u001b[0m\u001b[0;34m\u001b[0m\u001b[0m\n",
      "\u001b[0;32m/cndd/emukamel/conda_envs/cembadata_eran/lib/python3.6/site-packages/numpy/core/_methods.py\u001b[0m in \u001b[0;36m_count_reduce_items\u001b[0;34m(arr, axis)\u001b[0m\n\u001b[1;32m     55\u001b[0m     \u001b[0mitems\u001b[0m \u001b[0;34m=\u001b[0m \u001b[0;36m1\u001b[0m\u001b[0;34m\u001b[0m\u001b[0;34m\u001b[0m\u001b[0m\n\u001b[1;32m     56\u001b[0m     \u001b[0;32mfor\u001b[0m \u001b[0max\u001b[0m \u001b[0;32min\u001b[0m \u001b[0maxis\u001b[0m\u001b[0;34m:\u001b[0m\u001b[0;34m\u001b[0m\u001b[0;34m\u001b[0m\u001b[0m\n\u001b[0;32m---> 57\u001b[0;31m         \u001b[0mitems\u001b[0m \u001b[0;34m*=\u001b[0m \u001b[0marr\u001b[0m\u001b[0;34m.\u001b[0m\u001b[0mshape\u001b[0m\u001b[0;34m[\u001b[0m\u001b[0max\u001b[0m\u001b[0;34m]\u001b[0m\u001b[0;34m\u001b[0m\u001b[0;34m\u001b[0m\u001b[0m\n\u001b[0m\u001b[1;32m     58\u001b[0m     \u001b[0;32mreturn\u001b[0m \u001b[0mitems\u001b[0m\u001b[0;34m\u001b[0m\u001b[0;34m\u001b[0m\u001b[0m\n\u001b[1;32m     59\u001b[0m \u001b[0;34m\u001b[0m\u001b[0m\n",
      "\u001b[0;31mIndexError\u001b[0m: tuple index out of range"
     ]
    }
   ],
   "source": [
    "# For each modality, load the data, subset the genes, and normalize\n",
    "mod = modalities[0]\n",
    "mod\n",
    "\n",
    "data1 = sparse.load_npz(datadir+'/'+mod+'_raw.npz').T\n",
    "data1 = stats.zscore(data1,nan_policy='omit',axis=0)\n",
    "\n",
    "# tstart = time.time()\n",
    "# df = load_df(mod, ensid=hvg_ensid)\n",
    "# print(time.time() - tstart)"
   ]
  },
  {
   "cell_type": "code",
   "execution_count": 68,
   "metadata": {},
   "outputs": [
    {
     "ename": "TypeError",
     "evalue": "mean() got an unexpected keyword argument 'keepdims'",
     "output_type": "error",
     "traceback": [
      "\u001b[0;31m---------------------------------------------------------------------------\u001b[0m",
      "\u001b[0;31mTypeError\u001b[0m                                 Traceback (most recent call last)",
      "\u001b[0;32m<ipython-input-68-d218e2f5a84b>\u001b[0m in \u001b[0;36m<module>\u001b[0;34m\u001b[0m\n\u001b[1;32m      3\u001b[0m \u001b[0;31m# x=data1.todense()\u001b[0m\u001b[0;34m\u001b[0m\u001b[0;34m\u001b[0m\u001b[0;34m\u001b[0m\u001b[0m\n\u001b[1;32m      4\u001b[0m \u001b[0;31m# stats.zscore(x)\u001b[0m\u001b[0;34m\u001b[0m\u001b[0;34m\u001b[0m\u001b[0;34m\u001b[0m\u001b[0m\n\u001b[0;32m----> 5\u001b[0;31m \u001b[0mstats\u001b[0m\u001b[0;34m.\u001b[0m\u001b[0mzscore\u001b[0m\u001b[0;34m(\u001b[0m\u001b[0mx\u001b[0m\u001b[0;34m[\u001b[0m\u001b[0;34m:\u001b[0m\u001b[0;34m,\u001b[0m\u001b[0;34m:\u001b[0m\u001b[0;36m100\u001b[0m\u001b[0;34m]\u001b[0m\u001b[0;34m,\u001b[0m\u001b[0maxis\u001b[0m\u001b[0;34m=\u001b[0m\u001b[0;36m0\u001b[0m\u001b[0;34m)\u001b[0m\u001b[0;34m\u001b[0m\u001b[0;34m\u001b[0m\u001b[0m\n\u001b[0m",
      "\u001b[0;32m/cndd/emukamel/conda_envs/cembadata_eran/lib/python3.6/site-packages/scipy/stats/stats.py\u001b[0m in \u001b[0;36mzscore\u001b[0;34m(a, axis, ddof, nan_policy)\u001b[0m\n\u001b[1;32m   2414\u001b[0m         \u001b[0msstd\u001b[0m \u001b[0;34m=\u001b[0m \u001b[0mnp\u001b[0m\u001b[0;34m.\u001b[0m\u001b[0mnanstd\u001b[0m\u001b[0;34m(\u001b[0m\u001b[0ma\u001b[0m\u001b[0;34m=\u001b[0m\u001b[0ma\u001b[0m\u001b[0;34m,\u001b[0m \u001b[0maxis\u001b[0m\u001b[0;34m=\u001b[0m\u001b[0maxis\u001b[0m\u001b[0;34m,\u001b[0m \u001b[0mddof\u001b[0m\u001b[0;34m=\u001b[0m\u001b[0mddof\u001b[0m\u001b[0;34m,\u001b[0m \u001b[0mkeepdims\u001b[0m\u001b[0;34m=\u001b[0m\u001b[0;32mTrue\u001b[0m\u001b[0;34m)\u001b[0m\u001b[0;34m\u001b[0m\u001b[0;34m\u001b[0m\u001b[0m\n\u001b[1;32m   2415\u001b[0m     \u001b[0;32melse\u001b[0m\u001b[0;34m:\u001b[0m\u001b[0;34m\u001b[0m\u001b[0;34m\u001b[0m\u001b[0m\n\u001b[0;32m-> 2416\u001b[0;31m         \u001b[0mmns\u001b[0m \u001b[0;34m=\u001b[0m \u001b[0ma\u001b[0m\u001b[0;34m.\u001b[0m\u001b[0mmean\u001b[0m\u001b[0;34m(\u001b[0m\u001b[0maxis\u001b[0m\u001b[0;34m=\u001b[0m\u001b[0maxis\u001b[0m\u001b[0;34m,\u001b[0m \u001b[0mkeepdims\u001b[0m\u001b[0;34m=\u001b[0m\u001b[0;32mTrue\u001b[0m\u001b[0;34m)\u001b[0m\u001b[0;34m\u001b[0m\u001b[0;34m\u001b[0m\u001b[0m\n\u001b[0m\u001b[1;32m   2417\u001b[0m         \u001b[0msstd\u001b[0m \u001b[0;34m=\u001b[0m \u001b[0ma\u001b[0m\u001b[0;34m.\u001b[0m\u001b[0mstd\u001b[0m\u001b[0;34m(\u001b[0m\u001b[0maxis\u001b[0m\u001b[0;34m=\u001b[0m\u001b[0maxis\u001b[0m\u001b[0;34m,\u001b[0m \u001b[0mddof\u001b[0m\u001b[0;34m=\u001b[0m\u001b[0mddof\u001b[0m\u001b[0;34m,\u001b[0m \u001b[0mkeepdims\u001b[0m\u001b[0;34m=\u001b[0m\u001b[0;32mTrue\u001b[0m\u001b[0;34m)\u001b[0m\u001b[0;34m\u001b[0m\u001b[0;34m\u001b[0m\u001b[0m\n\u001b[1;32m   2418\u001b[0m \u001b[0;34m\u001b[0m\u001b[0m\n",
      "\u001b[0;31mTypeError\u001b[0m: mean() got an unexpected keyword argument 'keepdims'"
     ]
    }
   ],
   "source": [
    "# data1z=stats.zscore(data1.todense(),axis=0,nan_policy='omit')\n",
    "# data1\n",
    "# x=data1.todense()\n",
    "# stats.zscore(x)\n",
    "stats.zscore(x[:,:100],axis=0)"
   ]
  },
  {
   "cell_type": "code",
   "execution_count": 52,
   "metadata": {},
   "outputs": [
    {
     "name": "stdout",
     "output_type": "stream",
     "text": [
      "Loading smarter_cells\n"
     ]
    },
    {
     "name": "stderr",
     "output_type": "stream",
     "text": [
      "/cndd/emukamel/conda_envs/cembadata_eran/lib/python3.6/site-packages/scipy/stats/stats.py:269: RuntimeWarning: The input array could not be properly checked for nan values. nan values will be ignored.\n",
      "  \"values. nan values will be ignored.\", RuntimeWarning)\n"
     ]
    },
    {
     "ename": "IndexError",
     "evalue": "tuple index out of range",
     "output_type": "error",
     "traceback": [
      "\u001b[0;31m---------------------------------------------------------------------------\u001b[0m",
      "\u001b[0;31mIndexError\u001b[0m                                Traceback (most recent call last)",
      "\u001b[0;32m<ipython-input-52-727632aa4749>\u001b[0m in \u001b[0;36m<module>\u001b[0;34m\u001b[0m\n\u001b[1;32m      5\u001b[0m \u001b[0;34m\u001b[0m\u001b[0m\n\u001b[1;32m      6\u001b[0m \u001b[0;32mfor\u001b[0m \u001b[0mmod\u001b[0m \u001b[0;32min\u001b[0m \u001b[0mmodalities\u001b[0m\u001b[0;34m:\u001b[0m\u001b[0;34m\u001b[0m\u001b[0;34m\u001b[0m\u001b[0m\n\u001b[0;32m----> 7\u001b[0;31m     \u001b[0mdfs\u001b[0m\u001b[0;34m.\u001b[0m\u001b[0mappend\u001b[0m\u001b[0;34m(\u001b[0m\u001b[0mload_df\u001b[0m\u001b[0;34m(\u001b[0m\u001b[0mmod\u001b[0m\u001b[0;34m,\u001b[0m \u001b[0mensid\u001b[0m\u001b[0;34m=\u001b[0m\u001b[0mhvg_ensid\u001b[0m\u001b[0;34m)\u001b[0m\u001b[0;34m)\u001b[0m\u001b[0;34m\u001b[0m\u001b[0;34m\u001b[0m\u001b[0m\n\u001b[0m",
      "\u001b[0;32m<ipython-input-50-73fe8ccc8be6>\u001b[0m in \u001b[0;36mload_df\u001b[0;34m(mod, ensid)\u001b[0m\n\u001b[1;32m     15\u001b[0m     \u001b[0;32melse\u001b[0m\u001b[0;34m:\u001b[0m\u001b[0;34m\u001b[0m\u001b[0;34m\u001b[0m\u001b[0m\n\u001b[1;32m     16\u001b[0m         \u001b[0mdata1\u001b[0m \u001b[0;34m=\u001b[0m \u001b[0msparse\u001b[0m\u001b[0;34m.\u001b[0m\u001b[0mload_npz\u001b[0m\u001b[0;34m(\u001b[0m\u001b[0mdatadir\u001b[0m\u001b[0;34m+\u001b[0m\u001b[0;34m'/'\u001b[0m\u001b[0;34m+\u001b[0m\u001b[0mmod\u001b[0m\u001b[0;34m+\u001b[0m\u001b[0;34m'_raw.npz'\u001b[0m\u001b[0;34m)\u001b[0m\u001b[0;34m.\u001b[0m\u001b[0mT\u001b[0m\u001b[0;34m\u001b[0m\u001b[0;34m\u001b[0m\u001b[0m\n\u001b[0;32m---> 17\u001b[0;31m         \u001b[0mdata1\u001b[0m \u001b[0;34m=\u001b[0m \u001b[0mstats\u001b[0m\u001b[0;34m.\u001b[0m\u001b[0mzscore\u001b[0m\u001b[0;34m(\u001b[0m\u001b[0mdata1\u001b[0m\u001b[0;34m,\u001b[0m\u001b[0mnan_policy\u001b[0m\u001b[0;34m=\u001b[0m\u001b[0;34m'omit'\u001b[0m\u001b[0;34m,\u001b[0m\u001b[0maxis\u001b[0m\u001b[0;34m=\u001b[0m\u001b[0;36m0\u001b[0m\u001b[0;34m)\u001b[0m\u001b[0;34m\u001b[0m\u001b[0;34m\u001b[0m\u001b[0m\n\u001b[0m\u001b[1;32m     18\u001b[0m         \u001b[0mdata1df\u001b[0m \u001b[0;34m=\u001b[0m \u001b[0mpd\u001b[0m\u001b[0;34m.\u001b[0m\u001b[0mDataFrame\u001b[0m\u001b[0;34m.\u001b[0m\u001b[0msparse\u001b[0m\u001b[0;34m.\u001b[0m\u001b[0mfrom_spmatrix\u001b[0m\u001b[0;34m(\u001b[0m\u001b[0mdata1\u001b[0m\u001b[0;34m,\u001b[0m \u001b[0mcolumns\u001b[0m \u001b[0;34m=\u001b[0m \u001b[0mgenes1\u001b[0m\u001b[0;34m[\u001b[0m\u001b[0;36m0\u001b[0m\u001b[0;34m]\u001b[0m\u001b[0;34m)\u001b[0m\u001b[0;34m\u001b[0m\u001b[0;34m\u001b[0m\u001b[0m\n\u001b[1;32m     19\u001b[0m \u001b[0;34m\u001b[0m\u001b[0m\n",
      "\u001b[0;32m/cndd/emukamel/conda_envs/cembadata_eran/lib/python3.6/site-packages/scipy/stats/stats.py\u001b[0m in \u001b[0;36mzscore\u001b[0;34m(a, axis, ddof, nan_policy)\u001b[0m\n\u001b[1;32m   2414\u001b[0m         \u001b[0msstd\u001b[0m \u001b[0;34m=\u001b[0m \u001b[0mnp\u001b[0m\u001b[0;34m.\u001b[0m\u001b[0mnanstd\u001b[0m\u001b[0;34m(\u001b[0m\u001b[0ma\u001b[0m\u001b[0;34m=\u001b[0m\u001b[0ma\u001b[0m\u001b[0;34m,\u001b[0m \u001b[0maxis\u001b[0m\u001b[0;34m=\u001b[0m\u001b[0maxis\u001b[0m\u001b[0;34m,\u001b[0m \u001b[0mddof\u001b[0m\u001b[0;34m=\u001b[0m\u001b[0mddof\u001b[0m\u001b[0;34m,\u001b[0m \u001b[0mkeepdims\u001b[0m\u001b[0;34m=\u001b[0m\u001b[0;32mTrue\u001b[0m\u001b[0;34m)\u001b[0m\u001b[0;34m\u001b[0m\u001b[0;34m\u001b[0m\u001b[0m\n\u001b[1;32m   2415\u001b[0m     \u001b[0;32melse\u001b[0m\u001b[0;34m:\u001b[0m\u001b[0;34m\u001b[0m\u001b[0;34m\u001b[0m\u001b[0m\n\u001b[0;32m-> 2416\u001b[0;31m         \u001b[0mmns\u001b[0m \u001b[0;34m=\u001b[0m \u001b[0ma\u001b[0m\u001b[0;34m.\u001b[0m\u001b[0mmean\u001b[0m\u001b[0;34m(\u001b[0m\u001b[0maxis\u001b[0m\u001b[0;34m=\u001b[0m\u001b[0maxis\u001b[0m\u001b[0;34m,\u001b[0m \u001b[0mkeepdims\u001b[0m\u001b[0;34m=\u001b[0m\u001b[0;32mTrue\u001b[0m\u001b[0;34m)\u001b[0m\u001b[0;34m\u001b[0m\u001b[0;34m\u001b[0m\u001b[0m\n\u001b[0m\u001b[1;32m   2417\u001b[0m         \u001b[0msstd\u001b[0m \u001b[0;34m=\u001b[0m \u001b[0ma\u001b[0m\u001b[0;34m.\u001b[0m\u001b[0mstd\u001b[0m\u001b[0;34m(\u001b[0m\u001b[0maxis\u001b[0m\u001b[0;34m=\u001b[0m\u001b[0maxis\u001b[0m\u001b[0;34m,\u001b[0m \u001b[0mddof\u001b[0m\u001b[0;34m=\u001b[0m\u001b[0mddof\u001b[0m\u001b[0;34m,\u001b[0m \u001b[0mkeepdims\u001b[0m\u001b[0;34m=\u001b[0m\u001b[0;32mTrue\u001b[0m\u001b[0;34m)\u001b[0m\u001b[0;34m\u001b[0m\u001b[0;34m\u001b[0m\u001b[0m\n\u001b[1;32m   2418\u001b[0m \u001b[0;34m\u001b[0m\u001b[0m\n",
      "\u001b[0;32m/cndd/emukamel/conda_envs/cembadata_eran/lib/python3.6/site-packages/numpy/core/_methods.py\u001b[0m in \u001b[0;36m_mean\u001b[0;34m(a, axis, dtype, out, keepdims)\u001b[0m\n\u001b[1;32m    136\u001b[0m \u001b[0;34m\u001b[0m\u001b[0m\n\u001b[1;32m    137\u001b[0m     \u001b[0mis_float16_result\u001b[0m \u001b[0;34m=\u001b[0m \u001b[0;32mFalse\u001b[0m\u001b[0;34m\u001b[0m\u001b[0;34m\u001b[0m\u001b[0m\n\u001b[0;32m--> 138\u001b[0;31m     \u001b[0mrcount\u001b[0m \u001b[0;34m=\u001b[0m \u001b[0m_count_reduce_items\u001b[0m\u001b[0;34m(\u001b[0m\u001b[0marr\u001b[0m\u001b[0;34m,\u001b[0m \u001b[0maxis\u001b[0m\u001b[0;34m)\u001b[0m\u001b[0;34m\u001b[0m\u001b[0;34m\u001b[0m\u001b[0m\n\u001b[0m\u001b[1;32m    139\u001b[0m     \u001b[0;31m# Make this warning show up first\u001b[0m\u001b[0;34m\u001b[0m\u001b[0;34m\u001b[0m\u001b[0;34m\u001b[0m\u001b[0m\n\u001b[1;32m    140\u001b[0m     \u001b[0;32mif\u001b[0m \u001b[0mrcount\u001b[0m \u001b[0;34m==\u001b[0m \u001b[0;36m0\u001b[0m\u001b[0;34m:\u001b[0m\u001b[0;34m\u001b[0m\u001b[0;34m\u001b[0m\u001b[0m\n",
      "\u001b[0;32m/cndd/emukamel/conda_envs/cembadata_eran/lib/python3.6/site-packages/numpy/core/_methods.py\u001b[0m in \u001b[0;36m_count_reduce_items\u001b[0;34m(arr, axis)\u001b[0m\n\u001b[1;32m     55\u001b[0m     \u001b[0mitems\u001b[0m \u001b[0;34m=\u001b[0m \u001b[0;36m1\u001b[0m\u001b[0;34m\u001b[0m\u001b[0;34m\u001b[0m\u001b[0m\n\u001b[1;32m     56\u001b[0m     \u001b[0;32mfor\u001b[0m \u001b[0max\u001b[0m \u001b[0;32min\u001b[0m \u001b[0maxis\u001b[0m\u001b[0;34m:\u001b[0m\u001b[0;34m\u001b[0m\u001b[0;34m\u001b[0m\u001b[0m\n\u001b[0;32m---> 57\u001b[0;31m         \u001b[0mitems\u001b[0m \u001b[0;34m*=\u001b[0m \u001b[0marr\u001b[0m\u001b[0;34m.\u001b[0m\u001b[0mshape\u001b[0m\u001b[0;34m[\u001b[0m\u001b[0max\u001b[0m\u001b[0;34m]\u001b[0m\u001b[0;34m\u001b[0m\u001b[0;34m\u001b[0m\u001b[0m\n\u001b[0m\u001b[1;32m     58\u001b[0m     \u001b[0;32mreturn\u001b[0m \u001b[0mitems\u001b[0m\u001b[0;34m\u001b[0m\u001b[0;34m\u001b[0m\u001b[0m\n\u001b[1;32m     59\u001b[0m \u001b[0;34m\u001b[0m\u001b[0m\n",
      "\u001b[0;31mIndexError\u001b[0m: tuple index out of range"
     ]
    }
   ],
   "source": [
    "dfs = []\n",
    "# with Pool() as p:\n",
    "#     for d in p.map(load_df, modalities):\n",
    "#         dfs.append(d)\n",
    "        \n",
    "for mod in modalities:\n",
    "    dfs.append(load_df(mod, ensid=hvg_ensid))"
   ]
  },
  {
   "cell_type": "code",
   "execution_count": null,
   "metadata": {},
   "outputs": [],
   "source": [
    "df = pd.concat(dfs, sort=True)"
   ]
  },
  {
   "cell_type": "code",
   "execution_count": 233,
   "metadata": {},
   "outputs": [],
   "source": [
    "df = df.drop('cells',axis=1)"
   ]
  },
  {
   "cell_type": "code",
   "execution_count": 27,
   "metadata": {},
   "outputs": [
    {
     "ename": "NameError",
     "evalue": "name 'df' is not defined",
     "output_type": "error",
     "traceback": [
      "\u001b[0;31m---------------------------------------------------------------------------\u001b[0m",
      "\u001b[0;31mNameError\u001b[0m                                 Traceback (most recent call last)",
      "\u001b[0;32m<ipython-input-27-6f99130ecbb2>\u001b[0m in \u001b[0;36m<module>\u001b[0;34m\u001b[0m\n\u001b[1;32m      3\u001b[0m \u001b[0mscf\u001b[0m \u001b[0;34m=\u001b[0m \u001b[0mpd\u001b[0m\u001b[0;34m.\u001b[0m\u001b[0mread_csv\u001b[0m\u001b[0;34m(\u001b[0m\u001b[0mfn\u001b[0m\u001b[0;34m,\u001b[0m\u001b[0msep\u001b[0m\u001b[0;34m=\u001b[0m\u001b[0;34m'\\t'\u001b[0m\u001b[0;34m,\u001b[0m\u001b[0mlow_memory\u001b[0m\u001b[0;34m=\u001b[0m\u001b[0;32mFalse\u001b[0m\u001b[0;34m)\u001b[0m\u001b[0;34m\u001b[0m\u001b[0;34m\u001b[0m\u001b[0m\n\u001b[1;32m      4\u001b[0m \u001b[0mscf\u001b[0m\u001b[0;34m.\u001b[0m\u001b[0mset_index\u001b[0m\u001b[0;34m(\u001b[0m\u001b[0;34m'sample'\u001b[0m\u001b[0;34m,\u001b[0m\u001b[0minplace\u001b[0m\u001b[0;34m=\u001b[0m\u001b[0;32mTrue\u001b[0m\u001b[0;34m,\u001b[0m\u001b[0mdrop\u001b[0m\u001b[0;34m=\u001b[0m\u001b[0;32mFalse\u001b[0m\u001b[0;34m)\u001b[0m\u001b[0;34m\u001b[0m\u001b[0;34m\u001b[0m\u001b[0m\n\u001b[0;32m----> 5\u001b[0;31m scf = scf.loc[df.index,['sample','modality','modality_name','joint_cluster_round2','joint_cluster_round3',\n\u001b[0m\u001b[1;32m      6\u001b[0m                        'joint_embedding_x','joint_embedding_y']]\n\u001b[1;32m      7\u001b[0m \u001b[0mscf\u001b[0m\u001b[0;34m.\u001b[0m\u001b[0mshape\u001b[0m\u001b[0;34m\u001b[0m\u001b[0;34m\u001b[0m\u001b[0m\n",
      "\u001b[0;31mNameError\u001b[0m: name 'df' is not defined"
     ]
    }
   ],
   "source": [
    "# Load tSNE for all datasets\n",
    "fn='/cndd/Public_Datasets/BICCN/BICCN_minibrain_data/data_freeze/supp_info/clusters_final/miniatlas_fig4_scf_clusterings.tsv'\n",
    "scf = pd.read_csv(fn,sep='\\t',low_memory=False)\n",
    "scf.set_index('sample',inplace=True,drop=False)\n",
    "scf = scf.loc[df.index,['sample','modality','modality_name','joint_cluster_round2','joint_cluster_round3',\n",
    "                       'joint_embedding_x','joint_embedding_y']]\n",
    "scf.shape"
   ]
  },
  {
   "cell_type": "code",
   "execution_count": 274,
   "metadata": {},
   "outputs": [
    {
     "data": {
      "text/html": [
       "<div>\n",
       "<style scoped>\n",
       "    .dataframe tbody tr th:only-of-type {\n",
       "        vertical-align: middle;\n",
       "    }\n",
       "\n",
       "    .dataframe tbody tr th {\n",
       "        vertical-align: top;\n",
       "    }\n",
       "\n",
       "    .dataframe thead th {\n",
       "        text-align: right;\n",
       "    }\n",
       "</style>\n",
       "<table border=\"1\" class=\"dataframe\">\n",
       "  <thead>\n",
       "    <tr style=\"text-align: right;\">\n",
       "      <th></th>\n",
       "      <th>ensid</th>\n",
       "      <th>gene</th>\n",
       "    </tr>\n",
       "  </thead>\n",
       "  <tbody>\n",
       "    <tr>\n",
       "      <th>ENSMUSG00000000001</th>\n",
       "      <td>ENSMUSG00000000001</td>\n",
       "      <td>Gnai3</td>\n",
       "    </tr>\n",
       "    <tr>\n",
       "      <th>ENSMUSG00000000056</th>\n",
       "      <td>ENSMUSG00000000056</td>\n",
       "      <td>Narf</td>\n",
       "    </tr>\n",
       "    <tr>\n",
       "      <th>ENSMUSG00000000058</th>\n",
       "      <td>ENSMUSG00000000058</td>\n",
       "      <td>Cav2</td>\n",
       "    </tr>\n",
       "    <tr>\n",
       "      <th>ENSMUSG00000000078</th>\n",
       "      <td>ENSMUSG00000000078</td>\n",
       "      <td>Klf6</td>\n",
       "    </tr>\n",
       "    <tr>\n",
       "      <th>ENSMUSG00000000085</th>\n",
       "      <td>ENSMUSG00000000085</td>\n",
       "      <td>Scmh1</td>\n",
       "    </tr>\n",
       "    <tr>\n",
       "      <th>...</th>\n",
       "      <td>...</td>\n",
       "      <td>...</td>\n",
       "    </tr>\n",
       "    <tr>\n",
       "      <th>ENSMUSG00000111375</th>\n",
       "      <td>ENSMUSG00000111375</td>\n",
       "      <td>A830010M20Rik</td>\n",
       "    </tr>\n",
       "    <tr>\n",
       "      <th>ENSMUSG00000111765</th>\n",
       "      <td>ENSMUSG00000111765</td>\n",
       "      <td>Gm10635</td>\n",
       "    </tr>\n",
       "    <tr>\n",
       "      <th>ENSMUSG00000113429</th>\n",
       "      <td>ENSMUSG00000113429</td>\n",
       "      <td>Gm20063</td>\n",
       "    </tr>\n",
       "    <tr>\n",
       "      <th>ENSMUSG00000113450</th>\n",
       "      <td>ENSMUSG00000113450</td>\n",
       "      <td>Zfp935</td>\n",
       "    </tr>\n",
       "    <tr>\n",
       "      <th>ENSMUSG00000113949</th>\n",
       "      <td>ENSMUSG00000113949</td>\n",
       "      <td>Scamp4</td>\n",
       "    </tr>\n",
       "  </tbody>\n",
       "</table>\n",
       "<p>6465 rows × 2 columns</p>\n",
       "</div>"
      ],
      "text/plain": [
       "                                 ensid           gene\n",
       "ENSMUSG00000000001  ENSMUSG00000000001          Gnai3\n",
       "ENSMUSG00000000056  ENSMUSG00000000056           Narf\n",
       "ENSMUSG00000000058  ENSMUSG00000000058           Cav2\n",
       "ENSMUSG00000000078  ENSMUSG00000000078           Klf6\n",
       "ENSMUSG00000000085  ENSMUSG00000000085          Scmh1\n",
       "...                                ...            ...\n",
       "ENSMUSG00000111375  ENSMUSG00000111375  A830010M20Rik\n",
       "ENSMUSG00000111765  ENSMUSG00000111765        Gm10635\n",
       "ENSMUSG00000113429  ENSMUSG00000113429        Gm20063\n",
       "ENSMUSG00000113450  ENSMUSG00000113450         Zfp935\n",
       "ENSMUSG00000113949  ENSMUSG00000113949         Scamp4\n",
       "\n",
       "[6465 rows x 2 columns]"
      ]
     },
     "execution_count": 274,
     "metadata": {},
     "output_type": "execute_result"
    }
   ],
   "source": [
    "gencodeu = gencode.loc[df.columns,['ensid','gene']]"
   ]
  },
  {
   "cell_type": "code",
   "execution_count": 184,
   "metadata": {},
   "outputs": [],
   "source": [
    "nuse = 1000\n",
    "dfu = df.iloc[:nuse,:100]"
   ]
  },
  {
   "cell_type": "code",
   "execution_count": 185,
   "metadata": {},
   "outputs": [],
   "source": [
    "adata = ad.AnnData(X = dfu,\n",
    "                   obsm = {'X_tsne':  scf.loc[:,['joint_embedding_x', 'joint_embedding_y']][:nuse].to_numpy()},\n",
    "                   obs = scf.iloc[:nuse,:],\n",
    "                   var = gencodeu[:100],\n",
    "                  );"
   ]
  },
  {
   "cell_type": "code",
   "execution_count": 186,
   "metadata": {},
   "outputs": [
    {
     "name": "stderr",
     "output_type": "stream",
     "text": [
      "... storing 'sample' as categorical\n",
      "... storing 'modality' as categorical\n",
      "... storing 'modality_name' as categorical\n",
      "... storing 'joint_cluster_round2' as categorical\n",
      "... storing 'joint_cluster_round3' as categorical\n"
     ]
    }
   ],
   "source": [
    "adata.obs_names_make_unique()\n",
    "adata.var_names_make_unique()\n",
    "results_file = './biccn_mop6.test.h5ad'  # the file that will store the analysis results\n",
    "adata.write_h5ad(results_file)"
   ]
  },
  {
   "cell_type": "code",
   "execution_count": 339,
   "metadata": {},
   "outputs": [
    {
     "name": "stdout",
     "output_type": "stream",
     "text": [
      "(70454, 7) (70454, 6465)\n"
     ]
    }
   ],
   "source": [
    "# Load tSNE for all datasets\n",
    "samples_use = np.intersect1d(scf['sample'],df.index)\n",
    "fn='/cndd/Public_Datasets/BICCN/BICCN_minibrain_data/data_freeze/supp_info/clusters_final/miniatlas_fig4_scf_clusterings.tsv'\n",
    "scf = pd.read_csv(fn,sep='\\t',low_memory=False)\n",
    "scf.set_index('sample',inplace=True,drop=False)\n",
    "# scf = scf.loc[df.index,:]\n",
    "scf = scf.loc[samples_use,['sample','modality','modality_name','joint_cluster_round2','joint_cluster_round3',\n",
    "                       'joint_embedding_x','joint_embedding_y']]\n",
    "\n",
    "print(scf.shape,dfu.shape)"
   ]
  },
  {
   "cell_type": "code",
   "execution_count": 342,
   "metadata": {},
   "outputs": [
    {
     "data": {
      "text/plain": [
       "array([ True,  True,  True, ...,  True,  True,  True])"
      ]
     },
     "execution_count": 342,
     "metadata": {},
     "output_type": "execute_result"
    }
   ],
   "source": [
    "dfu = df.loc[samples_use,:]"
   ]
  },
  {
   "cell_type": "code",
   "execution_count": 343,
   "metadata": {},
   "outputs": [],
   "source": [
    "adata = ad.AnnData(X = dfu,\n",
    "                   obsm = {'X_tsne':  scf.loc[:,['joint_embedding_x', 'joint_embedding_y']].to_numpy()},\n",
    "                   obs = scf,\n",
    "                   var = gencodeu,\n",
    "                  );"
   ]
  },
  {
   "cell_type": "code",
   "execution_count": 344,
   "metadata": {
    "scrolled": true
   },
   "outputs": [
    {
     "name": "stderr",
     "output_type": "stream",
     "text": [
      "... storing 'modality' as categorical\n",
      "... storing 'modality_name' as categorical\n",
      "... storing 'joint_cluster_round2' as categorical\n",
      "... storing 'joint_cluster_round3' as categorical\n"
     ]
    }
   ],
   "source": [
    "adata.obs_names_make_unique()\n",
    "adata.var_names_make_unique()\n",
    "results_file = './biccn_mop6.h5ad'  # the file that will store the analysis results\n",
    "adata.write_h5ad(results_file)"
   ]
  }
 ],
 "metadata": {
  "kernelspec": {
   "display_name": "Python 3",
   "language": "python",
   "name": "python3"
  },
  "language_info": {
   "codemirror_mode": {
    "name": "ipython",
    "version": 3
   },
   "file_extension": ".py",
   "mimetype": "text/x-python",
   "name": "python",
   "nbconvert_exporter": "python",
   "pygments_lexer": "ipython3",
   "version": "3.7.1"
  }
 },
 "nbformat": 4,
 "nbformat_minor": 4
}
