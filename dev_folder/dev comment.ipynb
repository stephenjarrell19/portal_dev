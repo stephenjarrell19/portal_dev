{
 "cells": [
  {
   "cell_type": "code",
   "execution_count": null,
   "metadata": {},
   "outputs": [],
   "source": [
    "1.import libraries\n",
    "scanpy:for cell analysis in python\n",
    "anndata:annotated dataframe\n",
    "scipy.sparse:making sparse matrix\n",
    "scipy.stats:probability/statistical functions\n",
    "roload:reload previously-loaded module\n",
    "re:search strings\n",
    "os:interact with your operating system\n",
    "pool:parallelizing executions\n",
    "\n",
    "2.load and process data\n",
    "    1.set up datadir path and modality names\n",
    "    2.get the matrix of cell/gene info with index as ensID\n",
    "    3.load sparse matrixs. Save mlevel and normalized mlevel (snmcseq_gene_raw) as sparse matrix files into datadir.\n",
    "    4.def vars\n",
    "    5.extract Highly-variable genes(HVGs) of smarter cells using vars and get their ensID\n",
    "    6.def loaddf: load data by creating dataframe from its sparse matrix, normalizing it if it's not snmcseq, and raveling its ensID. Load cells as index for these ensIDs. Print info and return.\n",
    "    def load_metadata: just load metadata\n",
    "    7.For each modality, load the data, subset the genes, and normalize\n",
    "    8.concat dfs and drop \"cells\" from dfs \n",
    "    9.create annonated dataframe. Make names unique and save to h5ad file. (he did this for 2 AnnData, each with different stuff)\n"
   ]
  }
 ],
 "metadata": {
  "kernelspec": {
   "display_name": "Python 3",
   "language": "python",
   "name": "python3"
  },
  "language_info": {
   "codemirror_mode": {
    "name": "ipython",
    "version": 3
   },
   "file_extension": ".py",
   "mimetype": "text/x-python",
   "name": "python",
   "nbconvert_exporter": "python",
   "pygments_lexer": "ipython3",
   "version": "3.7.4"
  }
 },
 "nbformat": 4,
 "nbformat_minor": 2
}
